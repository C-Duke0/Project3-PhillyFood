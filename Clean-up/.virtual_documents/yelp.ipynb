import pandas as pd

# File path for the yelp_academic_dataset_business.json file
file_path = '/Users/christopherduke/yelp_dataset/yelp_academic_dataset_business.json'

# Load the JSON file into a DataFrame
df = pd.read_json(file_path, lines=True)

# Display the DataFrame
df.head()



df.count()



# Filter for rows where 'categories' column contains 'Restaurants'
df_restaurants = df[df['categories'].apply(lambda x: x is not None and 'Restaurants' in x)]

# Display the filtered DataFrame
df_restaurants.head()


# Define the categories to exclude
exclude_categories = ['Fast Food', 'Food Trucks', 'Diners']

# Filter for rows where 'categories' column does not contain any of the exclude categories
df_filtered = df_restaurants[~df_restaurants['categories'].apply(lambda x: any(category in x if x is not None else False for category in exclude_categories))]

# Display the filtered DataFrame
df_filtered.head()


# Filter for rows where 'city' column is 'Philadelphia'
df_phili = df_filtered[df_filtered['city'] == 'Philadelphia']

# Display the filtered DataFrame
df_phili.head()


df_review = df_phili[df_phili['review_count'] >= 100]

# Display the filtered DataFrame
df_review.count()


df_star = df_review[df_review['stars'] >= 3.5]
df_star.count()



