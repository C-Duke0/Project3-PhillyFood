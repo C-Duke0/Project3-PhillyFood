{
 "cells": [
  {
   "cell_type": "code",
   "execution_count": null,
   "id": "2df4dc1e-d774-4f9c-b995-2c26697bb84d",
   "metadata": {},
   "outputs": [],
   "source": [
    "import geopandas as gpd\n",
    "\n",
    "# Load GeoJSON file\n",
    "gdf_neighborhoods = gpd.read_file('philadelphia.geojson')\n",
    "\n",
    "# Check the first few entries to confirm the structure\n",
    "print(gdf_neighborhoods[['name']].head())\n",
    "\n",
    "\n"
   ]
  },
  {
   "cell_type": "code",
   "execution_count": null,
   "id": "35c62b1e-60f6-41d8-94ba-974244d784e1",
   "metadata": {},
   "outputs": [],
   "source": [
    "import pandas as pd\n",
    "\n",
    "data = pd.read_csv('yelp_academic_dataset_with_price_rating.csv')\n",
    "# Convert DataFrame to GeoDataFrame\n",
    "gdf_data = gpd.GeoDataFrame(\n",
    "    data, \n",
    "    geometry=gpd.points_from_xy(data.longitude, data.latitude),\n",
    "    crs=\"EPSG:4326\"  # Make sure this matches your GeoJSON CRS\n",
    ")\n"
   ]
  },
  {
   "cell_type": "code",
   "execution_count": null,
   "id": "d4292ec7-aa28-473e-81c4-8a0f10909ce5",
   "metadata": {},
   "outputs": [],
   "source": [
    "# Spatial join - points to polygons\n",
    "data_with_neighborhoods = gpd.sjoin(gdf_data, gdf_neighborhoods, how=\"inner\", op='intersects')\n",
    "\n",
    "# Check the results\n",
    "data_with_neighborhoods.head()\n"
   ]
  },
  {
   "cell_type": "code",
   "execution_count": null,
   "id": "0f7ac752-2e5f-47a1-9169-c91194bdb410",
   "metadata": {},
   "outputs": [],
   "source": [
    "# Assuming 'review_count' needs to be summed up\n",
    "# Assuming 'data_with_neighborhoods' is your GeoDataFrame after the spatial join\n",
    "data_grouped = data_with_neighborhoods.groupby('name_right')['review_count'].mean().reset_index()\n",
    "\n",
    "# Rename the column to reflect that it contains averages\n",
    "data_grouped.rename(columns={'review_count': 'average_review_count'}, inplace=True)\n",
    "\n",
    "# Check the results\n",
    "print(data_grouped)"
   ]
  },
  {
   "cell_type": "code",
   "execution_count": null,
   "id": "60e82ebc-7d23-445b-bf60-232382432249",
   "metadata": {},
   "outputs": [],
   "source": [
    "import geopandas as gpd\n",
    "\n",
    "# Load your GeoJSON as a GeoDataFrame\n",
    "gdf = gpd.read_file('philadelphia.geojson')\n",
    "\n",
    "# Join your DataFrame with the GeoDataFrame\n",
    "# Assume data_grouped is already set with 'name_right' as index and does not need setting again\n",
    "gdf = gdf.set_index('name').join(data_grouped, how=\"left\").reset_index()\n",
    "\n",
    "# Convert all Timestamp columns to strings\n",
    "for col in gdf.select_dtypes(include=['datetime64[ns]', 'datetime64[ns, utc]']).columns:\n",
    "    gdf[col] = gdf[col].astype(str)\n",
    "\n",
    "# Save back to GeoJSON\n",
    "merged_geojson = json.loads(gdf.to_json())\n",
    "\n",
    "# Optionally, save to file\n",
    "# with open('merged_philadelphia.geojson', 'w') as f:\n",
    "#     json.dump(merged_geojson, f)\n"
   ]
  },
  {
   "cell_type": "code",
   "execution_count": null,
   "id": "74df2748-ebe8-4c72-9cd8-dad4e86fa5ca",
   "metadata": {},
   "outputs": [],
   "source": [
    "import folium\n",
    "\n",
    "# Create a map centered around Philadelphia\n",
    "m = folium.Map(location=[39.9526, -75.1652], zoom_start=12)\n",
    "\n",
    "# Add the choropleth layer\n",
    "folium.Choropleth(\n",
    "    geo_data=merged_geojson,\n",
    "    name='choropleth',\n",
    "    data=gdf,\n",
    "    columns=['name', 'average_review_count'],\n",
    "    key_on='feature.properties.name',\n",
    "    fill_color='YlOrRd',  # Color scheme: can be adjusted\n",
    "    fill_opacity=0.7,\n",
    "    line_opacity=0.2,\n",
    "    legend_name='Average Review Count per Neighborhood'\n",
    ").add_to(m)\n",
    "\n",
    "# Add tooltips using the merged GeoJSON\n",
    "folium.GeoJson(\n",
    "    data=merged_geojson,\n",
    "    style_function=lambda feature: {'color': 'black', 'fillColor': '#ffff00', 'weight': 0.5, 'fillOpacity': 0.2},\n",
    "    tooltip=folium.GeoJsonTooltip(\n",
    "        fields=['name', 'average_review_count'],\n",
    "        aliases=['Neighborhood:', 'Average Reviews:'],\n",
    "        style=\"background-color: #F0EFEF; border: 2px solid black; border-radius: 3px; box-shadow: 3px;\",\n",
    "        max_width=250,\n",
    "    )\n",
    ").add_to(m)\n",
    "\n",
    "# Add a layer control to toggle on/off\n",
    "folium.LayerControl().add_to(m)\n",
    "\n",
    "# Save the map to an HTML file\n",
    "map_file = 'tool1.html'\n",
    "m.save(map_file)\n",
    "print(f\"Map has been saved to: {map_file}\")\n"
   ]
  }
 ],
 "metadata": {
  "kernelspec": {
   "display_name": "Python 3 (ipykernel)",
   "language": "python",
   "name": "python3"
  },
  "language_info": {
   "codemirror_mode": {
    "name": "ipython",
    "version": 3
   },
   "file_extension": ".py",
   "mimetype": "text/x-python",
   "name": "python",
   "nbconvert_exporter": "python",
   "pygments_lexer": "ipython3",
   "version": "3.10.14"
  }
 },
 "nbformat": 4,
 "nbformat_minor": 5
}
