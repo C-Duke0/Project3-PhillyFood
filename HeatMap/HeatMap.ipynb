{
 "cells": [
  {
   "cell_type": "code",
   "execution_count": 1,
   "id": "fdb420b8-5335-429e-b6ce-918012c11456",
   "metadata": {},
   "outputs": [
    {
     "name": "stdout",
     "output_type": "stream",
     "text": [
      "Map has been saved to: philadelphia_neighborhoods_map2.html\n"
     ]
    },
    {
     "name": "stderr",
     "output_type": "stream",
     "text": [
      "/opt/anaconda3/envs/dev/lib/python3.10/site-packages/IPython/core/interactiveshell.py:3493: FutureWarning: The `op` parameter is deprecated and will be removed in a future release. Please use the `predicate` parameter instead.\n",
      "  if await self.run_code(code, result, async_=asy):\n"
     ]
    }
   ],
   "source": [
    "import geopandas as gpd\n",
    "import pandas as pd\n",
    "import json\n",
    "import folium\n",
    "\n",
    "# Load GeoJSON file\n",
    "gdf_neighborhoods = gpd.read_file('philadelphia.geojson')\n",
    "\n",
    "# Load CSV data\n",
    "data = pd.read_csv('yelp_academic_dataset_with_price_rating.csv')\n",
    "\n",
    "# Convert DataFrame to GeoDataFrame\n",
    "gdf_data = gpd.GeoDataFrame(\n",
    "    data, \n",
    "    geometry=gpd.points_from_xy(data.longitude, data.latitude),\n",
    "    crs=\"EPSG:4326\"  # Make sure this matches your GeoJSON CRS\n",
    ")\n",
    "\n",
    "# Spatial join - points to polygons\n",
    "data_with_neighborhoods = gpd.sjoin(gdf_data, gdf_neighborhoods, how=\"inner\", op='intersects')\n",
    "\n",
    "# Calculate average review count and restaurant count per neighborhood\n",
    "data_grouped = data_with_neighborhoods.groupby('name_right').agg(\n",
    "    average_review_count=('review_count', 'mean'),\n",
    "    restaurant_count=('review_count', 'count')\n",
    ").reset_index()\n",
    "\n",
    "data_grouped['average_review_count'] = data_grouped['average_review_count'].round(0)\n",
    "\n",
    "# Load your GeoJSON as a GeoDataFrame\n",
    "gdf = gpd.read_file('philadelphia.geojson')\n",
    "\n",
    "# Join your DataFrame with the GeoDataFrame\n",
    "gdf = gdf.set_index('name').join(data_grouped.set_index('name_right'), how=\"left\").reset_index()\n",
    "\n",
    "# Convert all Timestamp columns to strings\n",
    "for col in gdf.select_dtypes(include=['datetime64[ns]', 'datetime64[ns, utc]']).columns:\n",
    "    gdf[col] = gdf[col].astype(str)\n",
    "\n",
    "# Save back to GeoJSON\n",
    "merged_geojson = json.loads(gdf.to_json())\n",
    "\n",
    "# Create a map centered around Philadelphia\n",
    "m = folium.Map(location=[39.9526, -75.1652], zoom_start=12)\n",
    "\n",
    "# Add the choropleth layer\n",
    "folium.Choropleth(\n",
    "    geo_data=merged_geojson,\n",
    "    name='choropleth',\n",
    "    data=gdf,\n",
    "    columns=['name', 'average_review_count'],\n",
    "    key_on='feature.properties.name',\n",
    "    fill_color='YlOrRd',  # Color scheme: can be adjusted\n",
    "    fill_opacity=0.7,\n",
    "    line_opacity=0.2,\n",
    "    legend_name='Average Review Count per Neighborhood'\n",
    ").add_to(m)\n",
    "\n",
    "# Add tooltips using the merged GeoJSON\n",
    "folium.GeoJson(\n",
    "    data=merged_geojson,\n",
    "    style_function=lambda feature: {'color': 'black', 'fillColor': '#ffff00', 'weight': 0.5, 'fillOpacity': 0.2},\n",
    "    tooltip=folium.GeoJsonTooltip(\n",
    "        fields=['name', 'average_review_count', 'restaurant_count'],\n",
    "        aliases=['Neighborhood:', 'Average Reviews:', 'Restaurant Count:'],\n",
    "        style=\"background-color: #F0EFEF; border: 2px solid black; border-radius: 3px; box-shadow: 3px;\",\n",
    "        max_width=250,\n",
    "    )\n",
    ").add_to(m)\n",
    "\n",
    "# Add a layer control to toggle on/off\n",
    "folium.LayerControl().add_to(m)\n",
    "\n",
    "# Save the map to an HTML file\n",
    "map_file = 'philadelphia_neighborhoods_map2.html'\n",
    "m.save(map_file)\n",
    "print(f\"Map has been saved to: {map_file}\")\n"
   ]
  },
  {
   "cell_type": "code",
   "execution_count": 2,
   "id": "c569fe76-7c6c-48aa-8df9-2ba693a88a6c",
   "metadata": {},
   "outputs": [
    {
     "name": "stdout",
     "output_type": "stream",
     "text": [
      "Merged GeoJSON has been saved to: merged_geojson.json\n"
     ]
    },
    {
     "name": "stderr",
     "output_type": "stream",
     "text": [
      "/opt/anaconda3/envs/dev/lib/python3.10/site-packages/IPython/core/interactiveshell.py:3493: FutureWarning: The `op` parameter is deprecated and will be removed in a future release. Please use the `predicate` parameter instead.\n",
      "  if await self.run_code(code, result, async_=asy):\n"
     ]
    }
   ],
   "source": [
    "import geopandas as gpd\n",
    "import pandas as pd\n",
    "import json\n",
    "\n",
    "# Load GeoJSON file\n",
    "gdf_neighborhoods = gpd.read_file('philadelphia.geojson')\n",
    "\n",
    "# Load CSV data\n",
    "data = pd.read_csv('yelp_academic_dataset_with_price_rating.csv')\n",
    "\n",
    "# Convert DataFrame to GeoDataFrame\n",
    "gdf_data = gpd.GeoDataFrame(\n",
    "    data, \n",
    "    geometry=gpd.points_from_xy(data.longitude, data.latitude),\n",
    "    crs=\"EPSG:4326\"  # Make sure this matches your GeoJSON CRS\n",
    ")\n",
    "\n",
    "# Spatial join - points to polygons\n",
    "data_with_neighborhoods = gpd.sjoin(gdf_data, gdf_neighborhoods, how=\"inner\", op='intersects')\n",
    "\n",
    "# Calculate average review count and restaurant count per neighborhood\n",
    "data_grouped = data_with_neighborhoods.groupby('name_right').agg(\n",
    "    average_review_count=('review_count', 'mean'),\n",
    "    restaurant_count=('review_count', 'count')\n",
    ").reset_index()\n",
    "\n",
    "data_grouped['average_review_count'] = data_grouped['average_review_count'].round(0)\n",
    "\n",
    "# Load your GeoJSON as a GeoDataFrame\n",
    "gdf = gpd.read_file('philadelphia.geojson')\n",
    "\n",
    "# Join your DataFrame with the GeoDataFrame\n",
    "gdf = gdf.set_index('name').join(data_grouped.set_index('name_right'), how=\"left\").reset_index()\n",
    "\n",
    "# Convert all Timestamp columns to strings\n",
    "for col in gdf.select_dtypes(include=['datetime64[ns]', 'datetime64[ns, utc]']).columns:\n",
    "    gdf[col] = gdf[col].astype(str)\n",
    "\n",
    "# Save back to GeoJSON\n",
    "merged_geojson = gdf.to_json()\n",
    "\n",
    "# Save the merged GeoJSON to a file\n",
    "with open('merged_geojson.json', 'w') as f:\n",
    "    json.dump(json.loads(merged_geojson), f)\n",
    "\n",
    "print(\"Merged GeoJSON has been saved to: merged_geojson.json\")\n"
   ]
  },
  {
   "cell_type": "code",
   "execution_count": null,
   "id": "c86f18d7-d61b-4e3a-a952-fe73190c7a0a",
   "metadata": {},
   "outputs": [],
   "source": []
  }
 ],
 "metadata": {
  "kernelspec": {
   "display_name": "Python 3 (ipykernel)",
   "language": "python",
   "name": "python3"
  },
  "language_info": {
   "codemirror_mode": {
    "name": "ipython",
    "version": 3
   },
   "file_extension": ".py",
   "mimetype": "text/x-python",
   "name": "python",
   "nbconvert_exporter": "python",
   "pygments_lexer": "ipython3",
   "version": "3.10.14"
  }
 },
 "nbformat": 4,
 "nbformat_minor": 5
}
