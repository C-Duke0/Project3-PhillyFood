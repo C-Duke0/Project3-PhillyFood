{
 "cells": [
  {
   "cell_type": "code",
   "execution_count": 20,
   "id": "261db3fa-4e03-47fc-a735-b01794c99e7d",
   "metadata": {},
   "outputs": [
    {
     "name": "stdout",
     "output_type": "stream",
     "text": [
      "                                          attributes price_rating\n",
      "0  {'RestaurantsReservations': 'True', 'Restauran...            2\n",
      "1  {'NoiseLevel': \"u'quiet'\", 'GoodForMeal': \"{'d...            1\n",
      "2  {'BikeParking': 'True', 'OutdoorSeating': 'Tru...            1\n",
      "3  {'BusinessAcceptsCreditCards': 'True', 'Restau...            2\n",
      "4  {'Alcohol': \"u'none'\", 'RestaurantsGoodForGrou...            2\n"
     ]
    }
   ],
   "source": [
    "import pandas as pd\n",
    "import re\n",
    "\n",
    "# Load the CSV file\n",
    "file_path = 'yelp_academic_dataset.csv'\n",
    "data = pd.read_csv(file_path, encoding='ISO-8859-1')\n",
    "\n",
    "# Define a function to extract the price rating\n",
    "def extract_price_rating(attributes):\n",
    "    if pd.isna(attributes):\n",
    "        return None\n",
    "    match = re.search(r\"'RestaurantsPriceRange2': '(\\d)'\", attributes)\n",
    "    return match.group(1) if match else None\n",
    "\n",
    "# Apply the function to the 'attributes' column to create a new 'price_rating' column\n",
    "data['price_rating'] = data['attributes'].apply(extract_price_rating)\n",
    "\n",
    "# Check the new column\n",
    "print(data[['attributes', 'price_rating']].head())\n",
    "\n",
    "# Save the updated DataFrame to a new CSV file\n",
    "data.to_csv('yelp_academic_dataset_with_price_rating.csv', index=False)\n"
   ]
  },
  {
   "cell_type": "code",
   "execution_count": null,
   "id": "a7ecf077-f099-4046-90bf-1feddbabd0b6",
   "metadata": {},
   "outputs": [],
   "source": []
  }
 ],
 "metadata": {
  "kernelspec": {
   "display_name": "Python 3 (ipykernel)",
   "language": "python",
   "name": "python3"
  },
  "language_info": {
   "codemirror_mode": {
    "name": "ipython",
    "version": 3
   },
   "file_extension": ".py",
   "mimetype": "text/x-python",
   "name": "python",
   "nbconvert_exporter": "python",
   "pygments_lexer": "ipython3",
   "version": "3.10.14"
  }
 },
 "nbformat": 4,
 "nbformat_minor": 5
}
